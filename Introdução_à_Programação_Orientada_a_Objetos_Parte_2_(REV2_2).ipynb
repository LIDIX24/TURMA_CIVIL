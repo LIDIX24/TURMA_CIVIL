{
  "nbformat": 4,
  "nbformat_minor": 0,
  "metadata": {
    "colab": {
      "provenance": [],
      "authorship_tag": "ABX9TyOCeXVijoYysgzW0X/JYkJV",
      "include_colab_link": true
    },
    "kernelspec": {
      "name": "python3",
      "display_name": "Python 3"
    },
    "language_info": {
      "name": "python"
    }
  },
  "cells": [
    {
      "cell_type": "markdown",
      "metadata": {
        "id": "view-in-github",
        "colab_type": "text"
      },
      "source": [
        "<a href=\"https://colab.research.google.com/github/LIDIX24/TURMA_CIVIL/blob/main/Introdu%C3%A7%C3%A3o_%C3%A0_Programa%C3%A7%C3%A3o_Orientada_a_Objetos_Parte_2_(REV2_2).ipynb\" target=\"_parent\"><img src=\"https://colab.research.google.com/assets/colab-badge.svg\" alt=\"Open In Colab\"/></a>"
      ]
    },
    {
      "cell_type": "code",
      "execution_count": 3,
      "metadata": {
        "colab": {
          "base_uri": "https://localhost:8080/"
        },
        "id": "O68yn1DppjlS",
        "outputId": "b94aa0df-df07-4df5-8c1f-14acfd3f8648"
      },
      "outputs": [
        {
          "output_type": "stream",
          "name": "stdout",
          "text": [
            "Digite um numero inteiro: 4\n",
            "O numero 4 não é divisivel por 3.\n"
          ]
        }
      ],
      "source": [
        "# Solicite ao usuário que insira um numero inteiro\n",
        "numero = int(input(\"Digite um numero inteiro: \"))\n",
        "\n",
        "# Informe se o numero é um valor de 3 ou não\n",
        "if numero % 3 == 0:\n",
        "    print(f\"O numero {numero} é divisivel por 3.\")\n",
        "else:\n",
        "    print(f\"O numero {numero} não é divisivel por 3.\")\n",
        "\n"
      ]
    },
    {
      "cell_type": "code",
      "source": [
        "# Solicite ao usuario que insira a nota A e B de um aluno\n",
        "nota_a = float(input(\"Digite a nota A do aluno: \"))\n",
        "nota_b = float(input(\"Digite a nota B do aluno: \"))\n",
        "\n",
        "# Calcule a media ponderada com A com peso 2 e B com peso 3\n",
        "media = (nota_a * 2 + nota_b * 3) / 5\n",
        "\n",
        "# Informe se o aluno passou ou não\n",
        "if media >= 6:\n",
        "    print(f\"O aluno passou com media {media}.\")\n",
        "else:\n",
        "    print(f\"O aluno reprovou com media {media}.\")\n",
        "\n",
        "\n",
        "\n"
      ],
      "metadata": {
        "colab": {
          "base_uri": "https://localhost:8080/"
        },
        "id": "PsmupO50tfXC",
        "outputId": "1b08990e-e715-4f0d-d8f3-9f26caddd5ea"
      },
      "execution_count": 5,
      "outputs": [
        {
          "output_type": "stream",
          "name": "stdout",
          "text": [
            "Digite a nota A do aluno: 5\n",
            "Digite a nota B do aluno: 7\n",
            "O aluno passou com media 6.2.\n"
          ]
        }
      ]
    },
    {
      "cell_type": "code",
      "source": [
        "a = float (input(\"Digite o valor de a: \"))\n",
        "b = float (input(\"Digite o valor de b: \"))\n",
        "c = float (input(\"Digite o valor de c: \"))\n",
        "\n",
        "if a <= b and a <= c:\n",
        "    menor_valor = a\n",
        "elif b <= a and b <= c:\n",
        "    menor_valor = b\n",
        "else:\n",
        "    menor_valor = c\n",
        "\n",
        "print(\"O menor valor é:\", menor_valor)"
      ],
      "metadata": {
        "colab": {
          "base_uri": "https://localhost:8080/"
        },
        "id": "b-i0P0x7yImF",
        "outputId": "15e72b09-fc92-457c-e7e2-716e9d17e2e0"
      },
      "execution_count": 10,
      "outputs": [
        {
          "output_type": "stream",
          "name": "stdout",
          "text": [
            "Digite o valor de a: 20\n",
            "Digite o valor de b: 80\n",
            "Digite o valor de c: 40\n",
            "O menor valor é: 20.0\n"
          ]
        }
      ]
    }
  ]
}