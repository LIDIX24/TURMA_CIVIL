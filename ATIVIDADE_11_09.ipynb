{
  "nbformat": 4,
  "nbformat_minor": 0,
  "metadata": {
    "colab": {
      "provenance": [],
      "authorship_tag": "ABX9TyPaNoDRytQZ09fOxs/ZeJ2T",
      "include_colab_link": true
    },
    "kernelspec": {
      "name": "python3",
      "display_name": "Python 3"
    },
    "language_info": {
      "name": "python"
    }
  },
  "cells": [
    {
      "cell_type": "markdown",
      "metadata": {
        "id": "view-in-github",
        "colab_type": "text"
      },
      "source": [
        "<a href=\"https://colab.research.google.com/github/LIDIX24/TURMA_CIVIL/blob/main/ATIVIDADE_11_09.ipynb\" target=\"_parent\"><img src=\"https://colab.research.google.com/assets/colab-badge.svg\" alt=\"Open In Colab\"/></a>"
      ]
    },
    {
      "cell_type": "code",
      "execution_count": 1,
      "metadata": {
        "colab": {
          "base_uri": "https://localhost:8080/"
        },
        "id": "18IPdTkNn3eX",
        "outputId": "2b928cc0-e92c-45bc-a6f1-9ddcdc1390fe"
      },
      "outputs": [
        {
          "output_type": "stream",
          "name": "stdout",
          "text": [
            "Digite um número inteiro: 10\n",
            "o numero 10 é par.\n"
          ]
        }
      ],
      "source": [
        "numero = int(input(\"Digite um número inteiro: \"))\n",
        "if numero % 2 == 0:\n",
        "  print(f\"o numero {numero} é par.\")\n",
        "else:\n",
        "  print(f\"o numero {numero} é impar.\")"
      ]
    },
    {
      "cell_type": "code",
      "source": [
        "import math\n",
        "numero = float(input(\"Digite um numero: \"))\n",
        "if numero >= 0:\n",
        "   raiz_quadrada = math.sqrt(numero)\n",
        "   print(f\"A raiz quadrada de {numero} é {raiz_quadrada: .2f}.\")\n",
        "else:\n",
        "   print(\"Não existe raiz real para este numero!\")\n",
        ""
      ],
      "metadata": {
        "colab": {
          "base_uri": "https://localhost:8080/"
        },
        "id": "Q-DP9Ivdpj2d",
        "outputId": "7cd74345-4a5b-4c56-f90f-3778a6ad4581"
      },
      "execution_count": 5,
      "outputs": [
        {
          "output_type": "stream",
          "name": "stdout",
          "text": [
            "Digite um numero: 49\n",
            "A raiz quadrada de 49.0 é  7.00.\n"
          ]
        }
      ]
    },
    {
      "cell_type": "code",
      "source": [
        "comprimento = float(input(\"Digite o comprimento da camiseta em centimetros: \"))\n",
        "largura = float(input(\"Digite a largura da camiseta em centimetros: \"))\n",
        "if comprimento <= 60 and largura <= 45:\n",
        "   tamanho = \"pp\"\n",
        "elif comprimento <= 65 and largura <= 48:\n",
        "    tamanho: \"p\"\n",
        "elif comprimento <= 70 and largura <= 51:\n",
        "    tamanho: \"m\"\n",
        "elif comprimento <= 75 and largura <= 54:\n",
        "    tamanho: \"g\"\n",
        "elif comprimento <= 80 and largura <= 57:\n",
        "    tamanho: \"gg\"\n",
        "else:\n",
        "  tamanho = \"xgg\"\n",
        "print(f\"O tamanho da camiseta é {tamanho}.\")"
      ],
      "metadata": {
        "colab": {
          "base_uri": "https://localhost:8080/"
        },
        "id": "61QKIPwtsJ5Q",
        "outputId": "a32394af-548c-4ff3-f6f4-d2b7d8348b8e"
      },
      "execution_count": 7,
      "outputs": [
        {
          "output_type": "stream",
          "name": "stdout",
          "text": [
            "Digite o comprimento da camiseta em centimetros: 20\n",
            "Digite a largura da camiseta em centimetros: 10\n",
            "O tamanho da camiseta é pp.\n"
          ]
        }
      ]
    }
  ]
}