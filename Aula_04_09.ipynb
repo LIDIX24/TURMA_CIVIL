{
  "nbformat": 4,
  "nbformat_minor": 0,
  "metadata": {
    "colab": {
      "provenance": [],
      "authorship_tag": "ABX9TyM2GIDnhsu4jj427P0uHH1t",
      "include_colab_link": true
    },
    "kernelspec": {
      "name": "python3",
      "display_name": "Python 3"
    },
    "language_info": {
      "name": "python"
    }
  },
  "cells": [
    {
      "cell_type": "markdown",
      "metadata": {
        "id": "view-in-github",
        "colab_type": "text"
      },
      "source": [
        "<a href=\"https://colab.research.google.com/github/LIDIX24/TURMA_CIVIL/blob/main/Aula_04_09.ipynb\" target=\"_parent\"><img src=\"https://colab.research.google.com/assets/colab-badge.svg\" alt=\"Open In Colab\"/></a>"
      ]
    },
    {
      "cell_type": "markdown",
      "source": [
        "Exemplo 2 - Conversão polegadas para milimetro"
      ],
      "metadata": {
        "id": "iChE0mTSkJKc"
      }
    },
    {
      "cell_type": "code",
      "source": [
        "p = float(input(\"Digite valor em polegadas:\"))\n",
        "mm = p*25.4\n",
        "print(\"valor em milimetros: \",mm)"
      ],
      "metadata": {
        "colab": {
          "base_uri": "https://localhost:8080/"
        },
        "id": "kPSF0z0bk9Wq",
        "outputId": "fa2fa0c3-19be-48a4-fa22-3009f8addb49"
      },
      "execution_count": 3,
      "outputs": [
        {
          "output_type": "stream",
          "name": "stdout",
          "text": [
            "Digite valor em polegadas:3\n",
            "valor em milimetros:  76.19999999999999\n"
          ]
        }
      ]
    },
    {
      "cell_type": "markdown",
      "source": [
        "Exercicio 5 - Esfera"
      ],
      "metadata": {
        "id": "NEGagd-NlZvc"
      }
    },
    {
      "cell_type": "code",
      "source": [
        "from math import pi\n",
        "r = float (input(\"digite raio\"))\n",
        "v = (4/3)*pi*r**3\n",
        "print(v)"
      ],
      "metadata": {
        "colab": {
          "base_uri": "https://localhost:8080/"
        },
        "id": "SmRMx3UxnDCI",
        "outputId": "61411348-4b66-49c3-cc01-58d1518c35fd"
      },
      "execution_count": 9,
      "outputs": [
        {
          "output_type": "stream",
          "name": "stdout",
          "text": [
            "digite raio10\n",
            "4188.790204786391\n"
          ]
        }
      ]
    },
    {
      "cell_type": "markdown",
      "source": [
        "Exercicio 6 - Ângulo converter para Radiano"
      ],
      "metadata": {
        "id": "omWaaT1ssC6h"
      }
    },
    {
      "cell_type": "code",
      "source": [
        "g = float (input(\"digite o ângulo em graus: \"))\n",
        "r = g * (pi/180)\n",
        "print (r)"
      ],
      "metadata": {
        "colab": {
          "base_uri": "https://localhost:8080/"
        },
        "id": "0pu8ZyrEs_OY",
        "outputId": "a5ec92fa-046f-4574-8dcb-bdc676a9c6a7"
      },
      "execution_count": 13,
      "outputs": [
        {
          "output_type": "stream",
          "name": "stdout",
          "text": [
            "digite o ângulo em graus: 18\n",
            "0.3141592653589793\n"
          ]
        }
      ]
    },
    {
      "cell_type": "markdown",
      "source": [
        "Exercicio 7 - Ângulo em radiano para graus"
      ],
      "metadata": {
        "id": "UDhJFE4WwndR"
      }
    },
    {
      "cell_type": "code",
      "source": [
        "r = float(input(\"digite o ângulo em radiano: \"))\n",
        "g = r * (180/pi)\n",
        "print (g)"
      ],
      "metadata": {
        "colab": {
          "base_uri": "https://localhost:8080/"
        },
        "id": "CQnFqmWRvJpO",
        "outputId": "6445d767-7334-4fde-fe9c-c68414fe47eb"
      },
      "execution_count": 16,
      "outputs": [
        {
          "output_type": "stream",
          "name": "stdout",
          "text": [
            "digite o ângulo em radiano: 30\n",
            "1718.8733853924696\n"
          ]
        }
      ]
    },
    {
      "cell_type": "markdown",
      "source": [
        "Exercicio 8 - Ângulo em Radiano para Grados"
      ],
      "metadata": {
        "id": "rAvTC2B3xVX2"
      }
    },
    {
      "cell_type": "code",
      "source": [],
      "metadata": {
        "id": "AUm6Y1Z8xdu9"
      },
      "execution_count": null,
      "outputs": []
    }
  ]
}