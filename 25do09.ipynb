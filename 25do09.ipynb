{
  "nbformat": 4,
  "nbformat_minor": 0,
  "metadata": {
    "colab": {
      "provenance": [],
      "authorship_tag": "ABX9TyMEigcUXGN8myim2+ciLqW6",
      "include_colab_link": true
    },
    "kernelspec": {
      "name": "python3",
      "display_name": "Python 3"
    },
    "language_info": {
      "name": "python"
    }
  },
  "cells": [
    {
      "cell_type": "markdown",
      "metadata": {
        "id": "view-in-github",
        "colab_type": "text"
      },
      "source": [
        "<a href=\"https://colab.research.google.com/github/LIDIX24/TURMA_CIVIL/blob/main/25do09.ipynb\" target=\"_parent\"><img src=\"https://colab.research.google.com/assets/colab-badge.svg\" alt=\"Open In Colab\"/></a>"
      ]
    },
    {
      "cell_type": "markdown",
      "source": [],
      "metadata": {
        "id": "ztxvTvQv4dLN"
      }
    },
    {
      "cell_type": "markdown",
      "source": [
        "Introdução à Programação Orientada a Objetos - POO – Parte 2 (REV2.2).pdf pag 43 ex 08 e 09"
      ],
      "metadata": {
        "id": "71ldYlXu4hAG"
      }
    },
    {
      "cell_type": "code",
      "execution_count": null,
      "metadata": {
        "id": "OUI31Dapw0-N"
      },
      "outputs": [],
      "source": [
        "while True:\n",
        "  resposta = input(\"Deseja realizar a soma de 2 variaveis? (S/N): \").strip().upper()\n",
        "if resposta == \"S\":\n",
        "  var1 = float(input(\"Digite o valor da primeira variavel: \"))\n",
        "  var2 = float(input(\"Digite o valor da segunda variavel: \"))\n",
        "\n",
        "  soma = var1 + var2\n",
        "\n",
        "  print(f\"A soma das variaveis é: {soma: .2f}/n\")\n",
        "\n",
        "elif resposta == 'N':\n",
        "  print(\"Operção finalizada\")\n",
        "  break\n",
        "\n",
        "else:\n",
        "  print(\"Resposta inválida! Por favor, digite 'S' para sim ou 'N' para não. /n\")\n",
        "\n",
        "\n",
        "\n",
        "\n",
        "\n",
        "\n",
        "\n",
        "\n"
      ]
    },
    {
      "cell_type": "code",
      "source": [
        "while True:\n",
        "  resposta = input(\"Deseja realizar uma soma? (sim/não): \").lower()\n",
        "  if resposta == \"sim\":\n",
        "  num1 = float(input(\"Digite o primeiro número: \"))\n",
        "  num2 = float(input(\"Digite o primeiro número: \"))\n",
        "  soma = num1 + num2 # calculo da soma\n",
        "  print(\" A soma é:\", soma)\n",
        "  else:\n",
        "    print(\"Encerrando o programa.\")\n",
        "    break"
      ],
      "metadata": {
        "id": "0mue4O414QEs"
      },
      "execution_count": null,
      "outputs": []
    }
  ]
}